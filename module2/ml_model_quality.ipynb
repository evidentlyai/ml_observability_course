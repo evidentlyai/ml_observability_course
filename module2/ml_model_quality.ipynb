{
 "cells": [
  {
   "cell_type": "markdown",
   "id": "bc0bcc0b-9a48-41b6-96cb-1b3ce1e1bdfd",
   "metadata": {},
   "source": [
    "# Model Quality: Code Practice"
   ]
  },
  {
   "cell_type": "code",
   "execution_count": null,
   "id": "a005d74d",
   "metadata": {},
   "outputs": [],
   "source": [
    "!pip install evidently\n",
    "\n",
    "%load_ext autoreload\n",
    "%autoreload 2"
   ]
  },
  {
   "cell_type": "code",
   "execution_count": null,
   "id": "6b346649-ef2f-48b7-bd39-62b172738781",
   "metadata": {},
   "outputs": [],
   "source": [
    "import pandas as pd\n",
    "import numpy as np\n",
    "\n",
    "from sklearn import datasets\n",
    "from sklearn import ensemble\n",
    "\n",
    "from evidently import ColumnMapping\n",
    "from evidently.report import Report\n",
    "from evidently.metric_preset import ClassificationPreset, RegressionPreset\n",
    "from evidently.metrics import *"
   ]
  },
  {
   "cell_type": "markdown",
   "id": "34fdd21e-1d83-4df6-899a-db7f047da8af",
   "metadata": {},
   "source": [
    "## Classification Quality"
   ]
  },
  {
   "cell_type": "code",
   "execution_count": null,
   "id": "bb0b7b63-10a5-4df3-b301-65d3cafe6e86",
   "metadata": {},
   "outputs": [],
   "source": [
    "#Dataset for binary probabilistic classifcation\n",
    "bcancer_data = datasets.load_breast_cancer(as_frame=True) #auto\n",
    "bcancer = bcancer_data.frame\n",
    "\n",
    "bcancer_ref = bcancer.sample(n=300, replace=False)\n",
    "bcancer_cur = bcancer.sample(n=200, replace=False)\n",
    "\n",
    "model = ensemble.RandomForestClassifier(random_state=1, n_estimators=10)\n",
    "model.fit(bcancer_ref[bcancer_data.feature_names.tolist()], bcancer_ref.target)\n",
    "\n",
    "bcancer_ref['prediction'] = model.predict_proba(bcancer_ref[bcancer_data.feature_names.tolist()])[:, 1]\n",
    "bcancer_cur['prediction'] = model.predict_proba(bcancer_cur[bcancer_data.feature_names.tolist()])[:, 1]"
   ]
  },
  {
   "cell_type": "code",
   "execution_count": null,
   "id": "5920a873-1294-472b-9b8a-4274990ec51a",
   "metadata": {},
   "outputs": [],
   "source": [
    "#Dataset for regression\n",
    "housing_data = datasets.fetch_california_housing(as_frame=True) #auto \n",
    "housing = housing_data.frame\n",
    "\n",
    "housing.rename(columns={'MedHouseVal': 'target'}, inplace=True)\n",
    "housing['prediction'] = housing_data['target'].values + np.random.normal(0, 3, housing.shape[0])\n",
    "\n",
    "housing_ref = housing.sample(n=5000, replace=False)\n",
    "housing_cur = housing.sample(n=5000, replace=False)"
   ]
  },
  {
   "cell_type": "code",
   "execution_count": null,
   "id": "405f9647-6d1c-4ec5-95f5-08170bf35aa7",
   "metadata": {
    "scrolled": true
   },
   "outputs": [],
   "source": [
    "classification_performance_report = Report(metrics=[\n",
    "    ClassificationPreset(probas_threshold=0.7),\n",
    "])\n",
    "\n",
    "classification_performance_report.run(reference_data=bcancer_ref, current_data=bcancer_cur)\n",
    "\n",
    "classification_performance_report.show(mode='inline')"
   ]
  },
  {
   "cell_type": "code",
   "execution_count": null,
   "id": "d0cabc53-c8b6-4f9c-9ee7-94b42cb13c26",
   "metadata": {
    "scrolled": true
   },
   "outputs": [],
   "source": [
    "classification_report = Report(metrics=[\n",
    "    ClassificationQualityMetric(),\n",
    "    ClassificationClassBalance(),\n",
    "    ConflictTargetMetric(),\n",
    "    ConflictPredictionMetric(),\n",
    "    ClassificationConfusionMatrix(),\n",
    "    ClassificationQualityByClass(),\n",
    "    ClassificationClassSeparationPlot(),\n",
    "    ClassificationProbDistribution(),\n",
    "    ClassificationRocCurve(),\n",
    "    ClassificationPRCurve(),\n",
    "    ClassificationPRTable(),\n",
    "    ClassificationQualityByFeatureTable(columns=['mean area', 'fractal dimension error']),\n",
    "\n",
    "    \n",
    "])\n",
    "\n",
    "classification_report.run(reference_data=bcancer_ref, current_data=bcancer_cur)\n",
    "classification_report.show(mode='inline')"
   ]
  },
  {
   "cell_type": "code",
   "execution_count": null,
   "id": "e7850366-9d6c-46fd-9025-01daee4702b7",
   "metadata": {},
   "outputs": [],
   "source": [
    "classification_report.save_html('classification_report.html')"
   ]
  },
  {
   "cell_type": "code",
   "execution_count": null,
   "id": "9f616ac9-de6f-456c-bcc3-862e090f9266",
   "metadata": {},
   "outputs": [],
   "source": [
    "classification_report.json()"
   ]
  },
  {
   "cell_type": "code",
   "execution_count": null,
   "id": "e1e18c38-2dde-4437-962f-040d880474e6",
   "metadata": {},
   "outputs": [],
   "source": [
    "classification_report.as_dict()"
   ]
  },
  {
   "cell_type": "markdown",
   "id": "bf7bf54d-75f0-4fe2-a825-fea421236ca7",
   "metadata": {},
   "source": [
    "## Regression Quality"
   ]
  },
  {
   "cell_type": "code",
   "execution_count": null,
   "id": "9d5a006a-87fb-4bd1-9995-27be852e532a",
   "metadata": {
    "scrolled": true
   },
   "outputs": [],
   "source": [
    "regression_performance_report = Report(metrics=[\n",
    "    RegressionPreset(),\n",
    "])\n",
    "\n",
    "regression_performance_report.run(reference_data=housing_ref.sort_index(), current_data=housing_cur.sort_index())\n",
    "regression_performance_report.show(mode='inline')"
   ]
  },
  {
   "cell_type": "code",
   "execution_count": null,
   "id": "71d476e7-6781-4165-810d-79b5b7294a60",
   "metadata": {
    "scrolled": true
   },
   "outputs": [],
   "source": [
    "regression_report = Report(metrics=[\n",
    "    RegressionQualityMetric(),\n",
    "    RegressionPredictedVsActualScatter(),\n",
    "    RegressionPredictedVsActualPlot(),\n",
    "    RegressionErrorPlot(),\n",
    "    RegressionAbsPercentageErrorPlot(),\n",
    "    RegressionErrorDistribution(),\n",
    "    RegressionErrorNormality(),\n",
    "    RegressionTopErrorMetric(),\n",
    "    RegressionErrorBiasTable(columns=['MedInc', 'AveRooms']),\n",
    "    \n",
    "])\n",
    "\n",
    "regression_report.run(reference_data=housing_ref, current_data=housing_cur)\n",
    "regression_report.show(mode='inline')"
   ]
  }
 ],
 "metadata": {
  "kernelspec": {
   "display_name": "Python 3 (ipykernel)",
   "language": "python",
   "name": "python3"
  },
  "language_info": {
   "codemirror_mode": {
    "name": "ipython",
    "version": 3
   },
   "file_extension": ".py",
   "mimetype": "text/x-python",
   "name": "python",
   "nbconvert_exporter": "python",
   "pygments_lexer": "ipython3",
   "version": "3.11.4"
  }
 },
 "nbformat": 4,
 "nbformat_minor": 5
}
